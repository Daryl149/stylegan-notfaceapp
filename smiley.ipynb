{
  "nbformat": 4,
  "nbformat_minor": 0,
  "metadata": {
    "colab": {
      "name": "smiley.ipynb",
      "version": "0.3.2",
      "provenance": [],
      "private_outputs": true,
      "collapsed_sections": [],
      "include_colab_link": true
    },
    "kernelspec": {
      "name": "python3",
      "display_name": "Python 3"
    },
    "accelerator": "GPU"
  },
  "cells": [
    {
      "cell_type": "markdown",
      "metadata": {
        "id": "view-in-github",
        "colab_type": "text"
      },
      "source": [
        "<a href=\"https://colab.research.google.com/github/eyaler/stylegan/blob/master/smiley.ipynb\" target=\"_parent\"><img src=\"https://colab.research.google.com/assets/colab-badge.svg\" alt=\"Open In Colab\"/></a>"
      ]
    },
    {
      "metadata": {
        "id": "E3HYBBZhGaUv",
        "colab_type": "code",
        "cellView": "form",
        "colab": {}
      },
      "cell_type": "code",
      "source": [
        "#@title Create video from camera snapshot (click image)\n",
        "from IPython.display import HTML\n",
        "from google.colab.output import eval_js\n",
        "from base64 import b64decode\n",
        "from google.colab import files\n",
        "import os\n",
        "import shutil\n",
        "\n",
        "VIDEO_HTML = \"\"\"\n",
        "<video autoplay\n",
        " width=800 height=600></video>\n",
        "<script>\n",
        "var video = document.querySelector('video')\n",
        "navigator.mediaDevices.getUserMedia({ video: true })\n",
        "  .then(stream=> video.srcObject = stream)\n",
        "  \n",
        "var data = new Promise(resolve=>{\n",
        "  video.onclick = ()=>{\n",
        "    var canvas = document.createElement('canvas')\n",
        "    var [w,h] = [video.offsetWidth, video.offsetHeight]\n",
        "    canvas.width = w\n",
        "    canvas.height = h\n",
        "    canvas.getContext('2d')\n",
        "          .drawImage(video, 0, 0, w, h)\n",
        "    video.srcObject.getVideoTracks()[0].stop()\n",
        "    video.replaceWith(canvas)\n",
        "    resolve(canvas.toDataURL('image/jpeg', %f))\n",
        "  }\n",
        "})\n",
        "</script>\n",
        "\"\"\"\n",
        "def take_photo(filename='photo.jpg', quality=1):\n",
        "  display(HTML(VIDEO_HTML % quality))\n",
        "  data = eval_js(\"data\")\n",
        "  binary = b64decode(data.split(',')[1])\n",
        "  with open(filename, 'wb') as f:\n",
        "    f.write(binary)\n",
        "  return len(binary)\n",
        "%cd /content\n",
        "shutil.rmtree('upload', ignore_errors=True)\n",
        "os.makedirs('upload', exist_ok=True)\n",
        "%cd upload\n",
        "take_photo()\n",
        "\n",
        "%cd /content\n",
        "!git clone https://github.com/eyaler/stylegan\n",
        "%cd stylegan\n",
        "\n",
        "!python align_images.py\n",
        "assert os.listdir('face'), 'did not find any faces'\n",
        "!python encode_images.py\n",
        "!python smile.py\n",
        "\n",
        "from moviepy.editor import *\n",
        "out_path = os.path.join('..', 'output')\n",
        "vid_name = os.listdir(out_path)[0]\n",
        "clip = VideoFileClip(os.path.join(out_path, vid_name))\n",
        "clip.ipython_display(height=512, autoplay=1, loop=1)"
      ],
      "execution_count": 0,
      "outputs": []
    },
    {
      "metadata": {
        "id": "MJlHnMLk3FVm",
        "colab_type": "code",
        "cellView": "form",
        "colab": {}
      },
      "cell_type": "code",
      "source": [
        "#@title Download videos\n",
        "print()\n",
        "for vid_name in os.listdir(out_path):\n",
        "    files.download(os.path.join(out_path, vid_name))"
      ],
      "execution_count": 0,
      "outputs": []
    }
  ]
}