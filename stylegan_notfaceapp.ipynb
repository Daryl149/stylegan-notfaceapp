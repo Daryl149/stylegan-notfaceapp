{
  "nbformat": 4,
  "nbformat_minor": 0,
  "metadata": {
    "colab": {
      "name": "stylegan-notfaceapp.ipynb",
      "version": "0.3.2",
      "provenance": [],
      "include_colab_link": true
    },
    "kernelspec": {
      "name": "python3",
      "display_name": "Python 3"
    },
    "accelerator": "GPU"
  },
  "cells": [
    {
      "cell_type": "markdown",
      "metadata": {
        "id": "view-in-github",
        "colab_type": "text"
      },
      "source": [
        "<a href=\"https://colab.research.google.com/github/Daryl149/stylegan-notfaceapp/blob/master/stylegan_notfaceapp.ipynb\" target=\"_parent\"><img src=\"https://colab.research.google.com/assets/colab-badge.svg\" alt=\"Open In Colab\"/></a>"
      ]
    },
    {
      "cell_type": "markdown",
      "metadata": {
        "id": "LmNNVCt6Dl7O",
        "colab_type": "text"
      },
      "source": [
        "Creates young-to-old video."
      ]
    },
    {
      "cell_type": "markdown",
      "metadata": {
        "id": "9-zG67rKbE2p",
        "colab_type": "text"
      },
      "source": [
        "Click 'connect' if not already, then the square brackets left of the code block, press play to start, upload your jpg photo and scroll down for results. "
      ]
    },
    {
      "cell_type": "markdown",
      "metadata": {
        "id": "iPkm56r3bH3A",
        "colab_type": "text"
      },
      "source": [
        "You have roughly 20 seconds to upload a photo, before it times out so have one ready to go. Takes a few minutes to complete, just leave it running."
      ]
    },
    {
      "cell_type": "code",
      "metadata": {
        "id": "5v9GEP5Vf5XG",
        "colab_type": "code",
        "colab": {}
      },
      "source": [
        "from google.colab import files\n",
        "import os\n",
        "import shutil\n",
        "\n",
        "%cd /content\n",
        "shutil.rmtree('upload', ignore_errors=True)\n",
        "os.makedirs('upload', exist_ok=True)\n",
        "%cd upload\n",
        "print(\"best results with a neutral background and no glasses\")\n",
        "print(\"and be quick, this notebook throws a timeout if you take too long\")\n",
        "assert files.upload(), 'file upload timed out. please try again...' #due to https://github.com/googlecolab/colabtools/issues/467\n",
        "\n",
        "%cd /content\n",
        "!git clone https://github.com/Daryl149/stylegan-notfaceapp\n",
        "%cd stylegan-notfaceapp\n",
        "\n",
        "!python align_images.py\n",
        "assert os.listdir('face'), 'did not find any faces'\n",
        "!python encode_images.py\n",
        "!python age.py #also works for gender.py or smile.py\n",
        "\n",
        "from moviepy.editor import *\n",
        "out_path = os.path.join('..', 'output')\n",
        "vid_name = os.listdir(out_path)[0]\n",
        "clip = VideoFileClip(os.path.join(out_path, vid_name))\n",
        "clip.ipython_display(height=512, autoplay=1, loop=1)\n"
      ],
      "execution_count": 0,
      "outputs": []
    },
    {
      "cell_type": "markdown",
      "metadata": {
        "id": "HIZks6jHEUkf",
        "colab_type": "text"
      },
      "source": [
        "Download videos with this code"
      ]
    },
    {
      "cell_type": "code",
      "metadata": {
        "id": "EoWwnOnPi_zy",
        "colab_type": "code",
        "colab": {}
      },
      "source": [
        "print() #fix issue https://github.com/googlecolab/colabtools/issues/468\n",
        "for vid_name in os.listdir(out_path):\n",
        "    files.download(os.path.join(out_path, vid_name))"
      ],
      "execution_count": 0,
      "outputs": []
    }
  ]
}