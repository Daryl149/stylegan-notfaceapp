{
  "nbformat": 4,
  "nbformat_minor": 0,
  "metadata": {
    "colab": {
      "name": "smile.ipynb",
      "version": "0.3.2",
      "provenance": [],
      "private_outputs": true,
      "collapsed_sections": [],
      "include_colab_link": true
    },
    "kernelspec": {
      "name": "python3",
      "display_name": "Python 3"
    },
    "accelerator": "GPU"
  },
  "cells": [
    {
      "cell_type": "markdown",
      "metadata": {
        "id": "view-in-github",
        "colab_type": "text"
      },
      "source": [
        "<a href=\"https://colab.research.google.com/github/eyaler/stylegan/blob/master/smile.ipynb\" target=\"_parent\"><img src=\"https://colab.research.google.com/assets/colab-badge.svg\" alt=\"Open In Colab\"/></a>"
      ]
    },
    {
      "metadata": {
        "id": "FizNuji1iYqu",
        "colab_type": "code",
        "cellView": "form",
        "colab": {}
      },
      "cell_type": "code",
      "source": [
        "#@title Create videos from uploaded files\n",
        "from google.colab import files\n",
        "import os\n",
        "import shutil\n",
        "\n",
        "%cd /content\n",
        "shutil.rmtree('upload', ignore_errors=True)\n",
        "os.makedirs('upload', exist_ok=True)\n",
        "%cd upload\n",
        "uploaded = None\n",
        "while not uploaded:\n",
        "    uploaded = files.upload()\n",
        "\n",
        "%cd /content\n",
        "!git clone https://github.com/eyaler/stylegan\n",
        "%cd stylegan\n",
        "\n",
        "!python align_images.py\n",
        "!python encode_images.py\n",
        "!python smile.py\n",
        "\n",
        "from moviepy.editor import *\n",
        "out_path = os.path.join('..', 'output')\n",
        "vid_name = os.listdir(out_path)[0]\n",
        "clip = VideoFileClip(os.path.join(out_path, vid_name))\n",
        "clip.ipython_display(height=512, autoplay=1, loop=1)"
      ],
      "execution_count": 0,
      "outputs": []
    },
    {
      "metadata": {
        "id": "dNDAv9MN3DM2",
        "colab_type": "code",
        "cellView": "form",
        "colab": {}
      },
      "cell_type": "code",
      "source": [
        "#@title Download (works in chrome)\n",
        "for vid_name in os.listdir(out_path):\n",
        "    files.download(os.path.join(out_path, vid_name))"
      ],
      "execution_count": 0,
      "outputs": []
    }
  ]
}